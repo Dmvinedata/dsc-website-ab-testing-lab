{
 "cells": [
  {
   "cell_type": "markdown",
   "metadata": {},
   "source": [
    "# Website A/B Testing - Lab\n",
    "\n",
    "## Introduction\n",
    "\n",
    "In this lab, you'll get another chance to practice your skills at conducting a full A/B test analysis. It will also be a chance to practice your data exploration and processing skills! The scenario you'll be investigating is data collected from the homepage of a music app page for audacity.\n",
    "\n",
    "## Objectives\n",
    "\n",
    "You will be able to:\n",
    "* Analyze the data from a website A/B test to draw relevant conclusions\n",
    "* Explore and analyze web action data"
   ]
  },
  {
   "cell_type": "markdown",
   "metadata": {},
   "source": [
    "## Exploratory Analysis\n",
    "\n",
    "Start by loading in the dataset stored in the file 'homepage_actions.csv'. Then conduct an exploratory analysis to get familiar with the data."
   ]
  },
  {
   "cell_type": "markdown",
   "metadata": {},
   "source": [
    "> Hints:\n",
    "    * Start investigating the id column:\n",
    "        * How many viewers also clicked?\n",
    "        * Are there any anomalies with the data; did anyone click who didn't view?\n",
    "        * Is there any overlap between the control and experiment groups? \n",
    "            * If so, how do you plan to account for this in your experimental design?"
   ]
  },
  {
   "cell_type": "code",
   "execution_count": 2,
   "metadata": {},
   "outputs": [],
   "source": [
    "# Import seaborn, numpy, pandas and stat\n",
    "import numpy as np\n",
    "import pandas as pd\n",
    "\n",
    "from scipy import stats\n",
    "import seaborn as sns"
   ]
  },
  {
   "cell_type": "code",
   "execution_count": 4,
   "metadata": {},
   "outputs": [
    {
     "data": {
      "text/html": [
       "<div>\n",
       "<style scoped>\n",
       "    .dataframe tbody tr th:only-of-type {\n",
       "        vertical-align: middle;\n",
       "    }\n",
       "\n",
       "    .dataframe tbody tr th {\n",
       "        vertical-align: top;\n",
       "    }\n",
       "\n",
       "    .dataframe thead th {\n",
       "        text-align: right;\n",
       "    }\n",
       "</style>\n",
       "<table border=\"1\" class=\"dataframe\">\n",
       "  <thead>\n",
       "    <tr style=\"text-align: right;\">\n",
       "      <th></th>\n",
       "      <th>timestamp</th>\n",
       "      <th>id</th>\n",
       "      <th>group</th>\n",
       "      <th>action</th>\n",
       "    </tr>\n",
       "  </thead>\n",
       "  <tbody>\n",
       "    <tr>\n",
       "      <th>0</th>\n",
       "      <td>2016-09-24 17:42:27.839496</td>\n",
       "      <td>804196</td>\n",
       "      <td>experiment</td>\n",
       "      <td>view</td>\n",
       "    </tr>\n",
       "    <tr>\n",
       "      <th>1</th>\n",
       "      <td>2016-09-24 19:19:03.542569</td>\n",
       "      <td>434745</td>\n",
       "      <td>experiment</td>\n",
       "      <td>view</td>\n",
       "    </tr>\n",
       "    <tr>\n",
       "      <th>2</th>\n",
       "      <td>2016-09-24 19:36:00.944135</td>\n",
       "      <td>507599</td>\n",
       "      <td>experiment</td>\n",
       "      <td>view</td>\n",
       "    </tr>\n",
       "    <tr>\n",
       "      <th>3</th>\n",
       "      <td>2016-09-24 19:59:02.646620</td>\n",
       "      <td>671993</td>\n",
       "      <td>control</td>\n",
       "      <td>view</td>\n",
       "    </tr>\n",
       "    <tr>\n",
       "      <th>4</th>\n",
       "      <td>2016-09-24 20:26:14.466886</td>\n",
       "      <td>536734</td>\n",
       "      <td>experiment</td>\n",
       "      <td>view</td>\n",
       "    </tr>\n",
       "  </tbody>\n",
       "</table>\n",
       "</div>"
      ],
      "text/plain": [
       "                    timestamp      id       group action\n",
       "0  2016-09-24 17:42:27.839496  804196  experiment   view\n",
       "1  2016-09-24 19:19:03.542569  434745  experiment   view\n",
       "2  2016-09-24 19:36:00.944135  507599  experiment   view\n",
       "3  2016-09-24 19:59:02.646620  671993     control   view\n",
       "4  2016-09-24 20:26:14.466886  536734  experiment   view"
      ]
     },
     "execution_count": 4,
     "metadata": {},
     "output_type": "execute_result"
    }
   ],
   "source": [
    "df = pd.read_csv(\"homepage_actions.csv\")\n",
    "df.head()"
   ]
  },
  {
   "cell_type": "code",
   "execution_count": 92,
   "metadata": {},
   "outputs": [
    {
     "data": {
      "text/plain": [
       "750053    2\n",
       "389447    2\n",
       "283040    2\n",
       "918794    2\n",
       "208714    2\n",
       "         ..\n",
       "467818    1\n",
       "629924    1\n",
       "820336    1\n",
       "424916    1\n",
       "461199    1\n",
       "Name: id, Length: 6328, dtype: int64"
      ]
     },
     "execution_count": 92,
     "metadata": {},
     "output_type": "execute_result"
    }
   ],
   "source": [
    "df[\"id\"].value_counts()"
   ]
  },
  {
   "cell_type": "code",
   "execution_count": 15,
   "metadata": {},
   "outputs": [
    {
     "data": {
      "text/plain": [
       "id      action\n",
       "182988  view      1\n",
       "182994  click     1\n",
       "        view      1\n",
       "183089  view      1\n",
       "183136  view      1\n",
       "                 ..\n",
       "937108  view      1\n",
       "937139  click     1\n",
       "        view      1\n",
       "937217  click     1\n",
       "        view      1\n",
       "Name: action, Length: 8188, dtype: int64"
      ]
     },
     "execution_count": 15,
     "metadata": {},
     "output_type": "execute_result"
    }
   ],
   "source": [
    "df.groupby(\"id\")[\"action\"].value_counts()"
   ]
  },
  {
   "cell_type": "code",
   "execution_count": 30,
   "metadata": {},
   "outputs": [
    {
     "data": {
      "text/plain": [
       "view     6328\n",
       "click    1860\n",
       "Name: action, dtype: int64"
      ]
     },
     "execution_count": 30,
     "metadata": {},
     "output_type": "execute_result"
    }
   ],
   "source": [
    "df.action.value_counts()"
   ]
  },
  {
   "cell_type": "code",
   "execution_count": 80,
   "metadata": {},
   "outputs": [
    {
     "name": "stdout",
     "output_type": "stream",
     "text": [
      "viewID:  6328 clickID:  1860\n"
     ]
    }
   ],
   "source": [
    "#Assumption, the data collection is correct...looking for anomlies in data\n",
    "#Only looking at data that has an id\n",
    "\n",
    "#Numbers of viewers\n",
    "    #The length of the ids who viewed (only one time)\n",
    "viewID = df[df[\"action\"] == \"view\"][\"id\"].unique()\n",
    "NumV =len(viewID)\n",
    "#Numbers of clickers\n",
    "    #The length of the ids who clicked (only one time)\n",
    "clickID = df[df[\"action\"] == \"click\"][\"id\"].unique()\n",
    "NumC =len(clickID)\n",
    "print (\"viewID: \",NumV, \"clickID: \",NumC)"
   ]
  },
  {
   "cell_type": "code",
   "execution_count": 79,
   "metadata": {},
   "outputs": [
    {
     "name": "stdout",
     "output_type": "stream",
     "text": [
      "The number of views who didnt click: 4468\n",
      "The number of views who didnt click: 0\n"
     ]
    }
   ],
   "source": [
    "#Number of views who didn't click\n",
    "    #The difference between the length views and clicks\n",
    "print (\"The number of views who didnt click:\", NumV-NumC)\n",
    "#Numbers of clickers who didn't view\n",
    "    #The difference between non views and clicks\n",
    "NonV = 8188 - NumV\n",
    "print (\"The number of views who didnt click:\", NumC-NonV)"
   ]
  },
  {
   "cell_type": "code",
   "execution_count": 89,
   "metadata": {},
   "outputs": [
    {
     "data": {
      "text/plain": [
       "id      group     \n",
       "182988  experiment    1\n",
       "182994  control       2\n",
       "183089  control       1\n",
       "183136  experiment    1\n",
       "183141  experiment    2\n",
       "                     ..\n",
       "937003  control       1\n",
       "937073  control       1\n",
       "937108  control       1\n",
       "937139  experiment    2\n",
       "937217  control       2\n",
       "Name: group, Length: 6328, dtype: int64"
      ]
     },
     "execution_count": 89,
     "metadata": {},
     "output_type": "execute_result"
    }
   ],
   "source": [
    "#Looking to see how some of the ids are allocated...some ids are in the control or exp group more than once\n",
    "df.groupby(\"id\")[\"group\"].value_counts()"
   ]
  },
  {
   "cell_type": "code",
   "execution_count": 134,
   "metadata": {},
   "outputs": [
    {
     "data": {
      "text/plain": [
       "0"
      ]
     },
     "execution_count": 134,
     "metadata": {},
     "output_type": "execute_result"
    }
   ],
   "source": [
    "#Is there any overlap between the control and experiment groups? * \n",
    "#If so, how do you plan to account for this in your experimental design?\n",
    "#We do not want someone with the same Id to be in both the control and exprimental group\n",
    "#Check the solution to do it using sets\n",
    "\n",
    "len(df[(df[\"group\"] == \"experiment\")& (df[\"group\"] == \"control\")][\"id\"])\n",
    "#There is no overlap between experiments and control group\n"
   ]
  },
  {
   "cell_type": "markdown",
   "metadata": {},
   "source": [
    "## Conduct a Statistical Test\n",
    "\n",
    "Conduct a statistical test to determine whether the experimental homepage was more effective than that of the control group."
   ]
  },
  {
   "cell_type": "code",
   "execution_count": null,
   "metadata": {},
   "outputs": [],
   "source": [
    "#The number of clicks would determine if the exp was more effective than the control group\n",
    "#We are comparing category of exp and control and the category of clicks and views\n",
    "\n",
    "#Get a count of (non views, views and clicks) by experiment and control group and put in table the number"
   ]
  },
  {
   "cell_type": "code",
   "execution_count": null,
   "metadata": {},
   "outputs": [],
   "source": [
    "#Hypothesis \n",
    "\n",
    "#Null Hypothesis: The exp homepage was no more effective than that of the control group\n",
    "#Alt Hypothesis: The exp was more effective than that of the control group"
   ]
  },
  {
   "cell_type": "code",
   "execution_count": null,
   "metadata": {},
   "outputs": [],
   "source": [
    "#We want to take understand the amount of clicks for each group\n",
    "#We want to take statistical measures on on the data\n",
    "    # Sample Size - Control, Experiment; Clicks - Control, Experiment; mean- c,e and std, e,v\n",
    "    #We want to  get the p value\n",
    "\n",
    "    "
   ]
  },
  {
   "cell_type": "code",
   "execution_count": 128,
   "metadata": {},
   "outputs": [
    {
     "data": {
      "text/plain": [
       "2996"
      ]
     },
     "execution_count": 128,
     "metadata": {},
     "output_type": "execute_result"
    }
   ],
   "source": [
    "#Experiment groups with one experiment trial and no control\n",
    "expnum = len(df[(df[\"group\"] == \"experiment\") & (df[\"group\"] != \"control\")][\"id\"].unique())\n",
    "expnum"
   ]
  },
  {
   "cell_type": "code",
   "execution_count": 129,
   "metadata": {},
   "outputs": [
    {
     "data": {
      "text/plain": [
       "3332"
      ]
     },
     "execution_count": 129,
     "metadata": {},
     "output_type": "execute_result"
    }
   ],
   "source": [
    "#Control groups with one control trial and no experiment\n",
    "connum = len(df[(df[\"group\"] != \"experiment\") & (df[\"group\"] == \"control\")][\"id\"].unique())\n",
    "connum"
   ]
  },
  {
   "cell_type": "code",
   "execution_count": 153,
   "metadata": {},
   "outputs": [],
   "source": [
    "#Get the total amount of clicks from the exp group and the experiment array\n",
    "expclick_len = len(df[(df[\"group\"] == \"experiment\") & (df[\"group\"] != \"control\") & (df[\"action\"] == \"click\") ][\"id\"].unique())\n",
    "exp_click = df[(df[\"group\"] == \"experiment\") & (df[\"group\"] != \"control\") & (df[\"action\"] == \"click\") ][\"id\"].unique()"
   ]
  },
  {
   "cell_type": "code",
   "execution_count": 159,
   "metadata": {},
   "outputs": [],
   "source": [
    "#Get the total amount of clicks from the control group and the control array\n",
    "conclick_len = len(df[(df[\"group\"] != \"experiment\") & (df[\"group\"] == \"control\") & (df[\"action\"] == \"click\") ][\"id\"].unique())\n",
    "con_click = df[(df[\"group\"] != \"experiment\") & (df[\"group\"] == \"control\") & (df[\"action\"] == \"click\") ][\"id\"].unique()"
   ]
  },
  {
   "cell_type": "code",
   "execution_count": 173,
   "metadata": {},
   "outputs": [
    {
     "name": "stdout",
     "output_type": "stream",
     "text": [
      "Sample sizes--> Control Group: 3332 Experiment Group: 2996\n",
      "Clicks--> Control Group: 932 Experiment Group: 928\n",
      "Mean Click Rate--> Control Group: 0.2797118847539016 Experiment Group: 0.3097463284379172\n"
     ]
    }
   ],
   "source": [
    "print(\"Sample sizes--> Control Group: {} Experiment Group: {}\".format(connum, expnum))\n",
    "print(\"Clicks--> Control Group: {} Experiment Group: {}\".format(conclick_len, expclick_len))\n",
    "print(\"Mean Click Rate--> Control Group: {} Experiment Group: {}\".format(conclick_len/connum, expclick_len/expnum))"
   ]
  },
  {
   "cell_type": "code",
   "execution_count": 215,
   "metadata": {},
   "outputs": [],
   "source": [
    "#Need a Control and Experiment dataframe to get p-value...need a dataframe with more than IDs like you had previously\n",
    "\n",
    "df['count'] = 1\n",
    "\n",
    "control = df[df.group=='control'].pivot(index='id', columns='action', values='count')\n",
    "control = control.fillna(value=0)\n",
    "\n",
    "experiment = df[df.group=='experiment'].pivot(index='id', columns='action', values='count')\n",
    "experiment = experiment.fillna(value=0)\n"
   ]
  },
  {
   "cell_type": "code",
   "execution_count": 257,
   "metadata": {},
   "outputs": [
    {
     "data": {
      "text/plain": [
       "0.004466402814337101"
      ]
     },
     "execution_count": 257,
     "metadata": {},
     "output_type": "execute_result"
    }
   ],
   "source": [
    "#import flatiron_stats as fs - doesn't load\n",
    "\n",
    "t_stat, p_value = stats.ttest_ind(control.click, experiment.click,equal_var=False, nan_policy='omit') \n",
    "one_side_p = p_value/2\n",
    "one_side_p"
   ]
  },
  {
   "cell_type": "markdown",
   "metadata": {},
   "source": [
    "## Verifying Results\n",
    "\n",
    "One sensible formulation of the data to answer the hypothesis test above would be to create a binary variable representing each individual in the experiment and control group. This binary variable would represent whether or not that individual clicked on the homepage; 1 for they did and 0 if they did not. \n",
    "\n",
    "The variance for the number of successes in a sample of a binomial variable with n observations is given by:\n",
    "\n",
    "## $n\\bullet p (1-p)$\n",
    "\n",
    "Given this, perform 3 steps to verify the results of your statistical test:\n",
    "1. Calculate the expected number of clicks for the experiment group, if it had the same click-through rate as that of the control group. \n",
    "2. Calculate the number of standard deviations that the actual number of clicks was from this estimate. \n",
    "3. Finally, calculate a p-value using the normal distribution based on this z-score."
   ]
  },
  {
   "cell_type": "markdown",
   "metadata": {},
   "source": [
    "### Step 1:\n",
    "Calculate the expected number of clicks for the experiment group, if it had the same click-through rate as that of the control group. "
   ]
  },
  {
   "cell_type": "code",
   "execution_count": 258,
   "metadata": {},
   "outputs": [
    {
     "data": {
      "text/plain": [
       "0.2797118847539016"
      ]
     },
     "execution_count": 258,
     "metadata": {},
     "output_type": "execute_result"
    }
   ],
   "source": [
    "con_rate = control.click.mean()\n",
    "con_rate"
   ]
  },
  {
   "cell_type": "code",
   "execution_count": 246,
   "metadata": {},
   "outputs": [
    {
     "data": {
      "text/plain": [
       "838.0168067226891"
      ]
     },
     "execution_count": 246,
     "metadata": {},
     "output_type": "execute_result"
    }
   ],
   "source": [
    "#1 clicks = control rate * num of experiments\n",
    "exp_rate = experiment.click.mean()\n",
    "con_rate = control.click.mean()\n",
    "elen = len(experiment)\n",
    "expected_e_click = con_rate * elen\n",
    "expected_e_click\n",
    "\n"
   ]
  },
  {
   "cell_type": "markdown",
   "metadata": {},
   "source": [
    "### Step 2:\n",
    "Calculate the number of standard deviations that the actual number of clicks was from this estimate."
   ]
  },
  {
   "cell_type": "code",
   "execution_count": 244,
   "metadata": {},
   "outputs": [
    {
     "data": {
      "text/plain": [
       "24.568547907005815"
      ]
     },
     "execution_count": 244,
     "metadata": {},
     "output_type": "execute_result"
    }
   ],
   "source": [
    "#Variance = n * p(1-p) # std sqr(var)\n",
    "#Use Zscore (hint below)\n",
    "\n",
    "n = elen\n",
    "p = con_rate\n",
    "\n",
    "var = n*p*(1-p)\n",
    "std = np.sqrt(var)\n",
    "std\n"
   ]
  },
  {
   "cell_type": "code",
   "execution_count": 245,
   "metadata": {},
   "outputs": [
    {
     "data": {
      "text/plain": [
       "928.0"
      ]
     },
     "execution_count": 245,
     "metadata": {},
     "output_type": "execute_result"
    }
   ],
   "source": [
    "experiment.click.sum()"
   ]
  },
  {
   "cell_type": "code",
   "execution_count": 253,
   "metadata": {},
   "outputs": [
    {
     "name": "stdout",
     "output_type": "stream",
     "text": [
      "z score: 3.6625360854823588\n"
     ]
    }
   ],
   "source": [
    "#Calculate Z score - Std known, and greater than 30 sample size\n",
    "# z = (observed value(928) - mean of sample (calc val 838) )/std of sample (24.5)\n",
    "\n",
    "zsc = (experiment.click.sum() - expected_e_click)/std\n",
    "print (\"z score:\",zsc)"
   ]
  },
  {
   "cell_type": "markdown",
   "metadata": {},
   "source": [
    "### Step 3: \n",
    "Finally, calculate a p-value using the normal distribution based on this z-score."
   ]
  },
  {
   "cell_type": "code",
   "execution_count": 256,
   "metadata": {},
   "outputs": [
    {
     "name": "stdout",
     "output_type": "stream",
     "text": [
      "pvalue: 0.00012486528006951198\n"
     ]
    }
   ],
   "source": [
    "#Pvalue using normal distribution\n",
    "\n",
    "p_value = stats.norm.sf(zsc)\n",
    "print(\"pvalue:\", p_value)"
   ]
  },
  {
   "cell_type": "markdown",
   "metadata": {},
   "source": [
    "### Analysis:\n",
    "\n",
    "Does this result roughly match that of the previous statistical test?\n",
    "\n",
    "> Comment: Yes, my intial test had the p value less than 0.05 which supports the experiment group was more effective than the control group rejecting the null hypothesis.  This validation's test of the p value was a lot less than the initial p value but still supports the same claim.  The effect size would help us understand by how much."
   ]
  },
  {
   "cell_type": "markdown",
   "metadata": {},
   "source": [
    "## Summary\n",
    "\n",
    "In this lab, you continued to get more practice designing and conducting AB tests. This required additional work preprocessing and formulating the initial problem in a suitable manner. Additionally, you also saw how to verify results, strengthening your knowledge of binomial variables, and reviewing initial statistical concepts of the central limit theorem, standard deviation, z-scores, and their accompanying p-values."
   ]
  }
 ],
 "metadata": {
  "kernelspec": {
   "display_name": "Python 3 (ipykernel)",
   "language": "python",
   "name": "python3"
  },
  "language_info": {
   "codemirror_mode": {
    "name": "ipython",
    "version": 3
   },
   "file_extension": ".py",
   "mimetype": "text/x-python",
   "name": "python",
   "nbconvert_exporter": "python",
   "pygments_lexer": "ipython3",
   "version": "3.10.0"
  }
 },
 "nbformat": 4,
 "nbformat_minor": 2
}
